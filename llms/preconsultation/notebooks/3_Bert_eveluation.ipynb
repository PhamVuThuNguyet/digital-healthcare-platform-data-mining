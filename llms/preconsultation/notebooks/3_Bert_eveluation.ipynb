{
 "cells": [
  {
   "cell_type": "code",
   "execution_count": 24,
   "id": "a2770677",
   "metadata": {},
   "outputs": [],
   "source": [
    "import os\n",
    "import pandas as pd\n",
    "import numpy as np\n",
    "import datasets\n",
    "from datasets import load_dataset\n",
    "from sklearn import metrics"
   ]
  },
  {
   "cell_type": "code",
   "execution_count": 25,
   "id": "6445edf8",
   "metadata": {},
   "outputs": [],
   "source": [
    "import torch\n",
    "from collections import Counter\n",
    "from transformers import AutoTokenizer\n",
    "from transformers import AutoModelForSequenceClassification\n",
    "from transformers import TrainingArguments, Trainer\n",
    "from transformers import DataCollatorWithPadding\n",
    "from sklearn import metrics\n",
    "from sklearn.model_selection import train_test_split\n",
    "from imblearn.over_sampling import RandomOverSampler"
   ]
  },
  {
   "cell_type": "code",
   "execution_count": 26,
   "id": "5bda822c",
   "metadata": {},
   "outputs": [
    {
     "data": {
      "text/plain": [
       "'/home/anqizhao/Anqi/Bert Classifier'"
      ]
     },
     "execution_count": 26,
     "metadata": {},
     "output_type": "execute_result"
    }
   ],
   "source": [
    "curr_path = os.getcwd()\n",
    "curr_path"
   ]
  },
  {
   "cell_type": "code",
   "execution_count": 27,
   "id": "c6e34905",
   "metadata": {},
   "outputs": [],
   "source": [
    "label_cols = [ '信息支持1-病情描述/分析/诊断',\n",
    "              '信息支持2-科普读物/其他病人经历',\n",
    "     '信息支持4-治疗建议',\n",
    "             '信息支持',\n",
    "             '情感支持'] "
   ]
  },
  {
   "cell_type": "code",
   "execution_count": 28,
   "id": "bfd6c199",
   "metadata": {},
   "outputs": [
    {
     "name": "stdout",
     "output_type": "stream",
     "text": [
      "---------------------------------------\n",
      "               Pred Negative  Pred Positive\n",
      "True Negative           1976             97\n",
      "True Positive            131            682\n",
      "              precision    recall  f1-score   support\n",
      "\n",
      "           0       0.94      0.95      0.95      2073\n",
      "           1       0.88      0.84      0.86       813\n",
      "\n",
      "    accuracy                           0.92      2886\n",
      "   macro avg       0.91      0.90      0.90      2886\n",
      "weighted avg       0.92      0.92      0.92      2886\n",
      "\n",
      "---------------------------------------\n",
      "               Pred Negative  Pred Positive\n",
      "True Negative           2857             10\n",
      "True Positive              3             16\n",
      "              precision    recall  f1-score   support\n",
      "\n",
      "           0       1.00      1.00      1.00      2867\n",
      "           1       0.62      0.84      0.71        19\n",
      "\n",
      "    accuracy                           1.00      2886\n",
      "   macro avg       0.81      0.92      0.85      2886\n",
      "weighted avg       1.00      1.00      1.00      2886\n",
      "\n",
      "---------------------------------------\n",
      "               Pred Negative  Pred Positive\n",
      "True Negative           1563            111\n",
      "True Positive            125           1087\n",
      "              precision    recall  f1-score   support\n",
      "\n",
      "           0       0.93      0.93      0.93      1674\n",
      "           1       0.91      0.90      0.90      1212\n",
      "\n",
      "    accuracy                           0.92      2886\n",
      "   macro avg       0.92      0.92      0.92      2886\n",
      "weighted avg       0.92      0.92      0.92      2886\n",
      "\n",
      "---------------------------------------\n",
      "               Pred Negative  Pred Positive\n",
      "True Negative            898            113\n",
      "True Positive            164           1711\n",
      "              precision    recall  f1-score   support\n",
      "\n",
      "           0       0.85      0.89      0.87      1011\n",
      "           1       0.94      0.91      0.93      1875\n",
      "\n",
      "    accuracy                           0.90      2886\n",
      "   macro avg       0.89      0.90      0.90      2886\n",
      "weighted avg       0.91      0.90      0.90      2886\n",
      "\n",
      "---------------------------------------\n",
      "               Pred Negative  Pred Positive\n",
      "True Negative           2835              7\n",
      "True Positive              8             36\n",
      "              precision    recall  f1-score   support\n",
      "\n",
      "           0       1.00      1.00      1.00      2842\n",
      "           1       0.84      0.82      0.83        44\n",
      "\n",
      "    accuracy                           0.99      2886\n",
      "   macro avg       0.92      0.91      0.91      2886\n",
      "weighted avg       0.99      0.99      0.99      2886\n",
      "\n"
     ]
    }
   ],
   "source": [
    "results=[]\n",
    "for label_col in label_cols:\n",
    "    parameter = '_622_5e-5'\n",
    "    classifier_folder = 'Classifier'\n",
    "    print('---------------------------------------')\n",
    "    predict_path = os.path.join(curr_path, classifier_folder, label_col[:5]+parameter + '_predict.csv')\n",
    "    df = pd.read_csv(predict_path)\n",
    "    y_ture = df['original_label']\n",
    "    y_pred = df['pred']\n",
    "    acc = metrics.accuracy_score(y_ture, y_pred)\n",
    "    f1 = metrics.f1_score(y_ture, y_pred, labels=[0, 1])\n",
    "    recall = metrics.recall_score(y_ture, y_pred, labels=[0, 1])\n",
    "    precision = metrics.precision_score(y_ture, y_pred, labels=[0, 1])\n",
    "    matrix = metrics.confusion_matrix(y_ture, y_pred, labels=[0, 1])\n",
    "    report = metrics.classification_report(y_ture, y_pred, labels=[0, 1])\n",
    "    results.append({\n",
    "        'Label': label_col,\n",
    "        'Accuracy':acc,\n",
    "        'F1': f1,\n",
    "        'Precision': precision,\n",
    "        'Recall': recall\n",
    "    })\n",
    "    class_names1 = ['True Negative', 'True Positive']\n",
    "    class_names2 = ['Pred Negative', 'Pred Positive']\n",
    "    df_cm = pd.DataFrame(matrix, index=class_names1, columns=class_names2)\n",
    "    print(df_cm)\n",
    "    print(report)"
   ]
  },
  {
   "cell_type": "code",
   "execution_count": 22,
   "id": "90c5632b",
   "metadata": {},
   "outputs": [
    {
     "name": "stdout",
     "output_type": "stream",
     "text": [
      "---------------------------------------\n",
      "               Pred Negative  Pred Positive\n",
      "True Negative           2735             17\n",
      "True Positive             40             94\n",
      "              precision    recall  f1-score   support\n",
      "\n",
      "           0       0.99      0.99      0.99      2752\n",
      "           1       0.85      0.70      0.77       134\n",
      "\n",
      "    accuracy                           0.98      2886\n",
      "   macro avg       0.92      0.85      0.88      2886\n",
      "weighted avg       0.98      0.98      0.98      2886\n",
      "\n"
     ]
    }
   ],
   "source": [
    "label_cols=['信息支持3-线上/门诊或住院流程/时间/费用']\n",
    "for label_col in label_cols:\n",
    "    parameter = '_622_1e-4'\n",
    "    classifier_folder = 'Classifier'\n",
    "    print('---------------------------------------')\n",
    "    predict_path = os.path.join(curr_path, classifier_folder, label_col[:5]+parameter + '_predict.csv')\n",
    "    df = pd.read_csv(predict_path)\n",
    "    y_ture = df['original_label']\n",
    "    y_pred = df['pred']\n",
    "    acc = metrics.accuracy_score(y_ture, y_pred)\n",
    "    f1 = metrics.f1_score(y_ture, y_pred, labels=[0, 1])\n",
    "    recall = metrics.recall_score(y_ture, y_pred, labels=[0, 1])\n",
    "    precision = metrics.precision_score(y_ture, y_pred, labels=[0, 1])\n",
    "    matrix = metrics.confusion_matrix(y_ture, y_pred, labels=[0, 1])\n",
    "    report = metrics.classification_report(y_ture, y_pred, labels=[0, 1])\n",
    "    results.append({\n",
    "        'Label': label_col,\n",
    "        'Accuracy':acc,\n",
    "        'F1': f1,\n",
    "        'Precision': precision,\n",
    "        'Recall': recall\n",
    "    })\n",
    "    class_names1 = ['True Negative', 'True Positive']\n",
    "    class_names2 = ['Pred Negative', 'Pred Positive']\n",
    "    df_cm = pd.DataFrame(matrix, index=class_names1, columns=class_names2)\n",
    "    print(df_cm)\n",
    "    print(report)"
   ]
  },
  {
   "cell_type": "code",
   "execution_count": 30,
   "id": "90b694fd",
   "metadata": {
    "scrolled": true
   },
   "outputs": [
    {
     "name": "stdout",
     "output_type": "stream",
     "text": [
      "/home/anqizhao/Anqi/Bert Classifier/Classifier/情感支持_622_5e-5_predict.csv\n"
     ]
    },
    {
     "data": {
      "text/html": [
       "<div>\n",
       "<style scoped>\n",
       "    .dataframe tbody tr th:only-of-type {\n",
       "        vertical-align: middle;\n",
       "    }\n",
       "\n",
       "    .dataframe tbody tr th {\n",
       "        vertical-align: top;\n",
       "    }\n",
       "\n",
       "    .dataframe thead th {\n",
       "        text-align: right;\n",
       "    }\n",
       "</style>\n",
       "<table border=\"1\" class=\"dataframe\">\n",
       "  <thead>\n",
       "    <tr style=\"text-align: right;\">\n",
       "      <th></th>\n",
       "      <th>Label</th>\n",
       "      <th>Accuracy</th>\n",
       "      <th>F1</th>\n",
       "      <th>Precision</th>\n",
       "      <th>Recall</th>\n",
       "    </tr>\n",
       "  </thead>\n",
       "  <tbody>\n",
       "    <tr>\n",
       "      <th>0</th>\n",
       "      <td>信息支持1-病情描述/分析/诊断</td>\n",
       "      <td>0.921</td>\n",
       "      <td>0.857</td>\n",
       "      <td>0.875</td>\n",
       "      <td>0.839</td>\n",
       "    </tr>\n",
       "    <tr>\n",
       "      <th>1</th>\n",
       "      <td>信息支持2-科普读物/其他病人经历</td>\n",
       "      <td>0.995</td>\n",
       "      <td>0.711</td>\n",
       "      <td>0.615</td>\n",
       "      <td>0.842</td>\n",
       "    </tr>\n",
       "    <tr>\n",
       "      <th>2</th>\n",
       "      <td>信息支持4-治疗建议</td>\n",
       "      <td>0.918</td>\n",
       "      <td>0.902</td>\n",
       "      <td>0.907</td>\n",
       "      <td>0.897</td>\n",
       "    </tr>\n",
       "    <tr>\n",
       "      <th>3</th>\n",
       "      <td>信息支持</td>\n",
       "      <td>0.904</td>\n",
       "      <td>0.925</td>\n",
       "      <td>0.938</td>\n",
       "      <td>0.913</td>\n",
       "    </tr>\n",
       "    <tr>\n",
       "      <th>4</th>\n",
       "      <td>情感支持</td>\n",
       "      <td>0.995</td>\n",
       "      <td>0.828</td>\n",
       "      <td>0.837</td>\n",
       "      <td>0.818</td>\n",
       "    </tr>\n",
       "  </tbody>\n",
       "</table>\n",
       "</div>"
      ],
      "text/plain": [
       "               Label Accuracy     F1 Precision Recall\n",
       "0   信息支持1-病情描述/分析/诊断    0.921  0.857     0.875  0.839\n",
       "1  信息支持2-科普读物/其他病人经历    0.995  0.711     0.615  0.842\n",
       "2         信息支持4-治疗建议    0.918  0.902     0.907  0.897\n",
       "3               信息支持    0.904  0.925     0.938  0.913\n",
       "4               情感支持    0.995  0.828     0.837  0.818"
      ]
     },
     "execution_count": 30,
     "metadata": {},
     "output_type": "execute_result"
    }
   ],
   "source": [
    "results_df = pd.DataFrame(results)\n",
    "for col in results_df.columns:\n",
    "    if col != 'Label':  # Skip formatting the 'Label' column\n",
    "        results_df[col] = results_df[col].apply(lambda x: f'{x:.3f}')\n",
    "print(predict_path)\n",
    "results_df"
   ]
  },
  {
   "cell_type": "code",
   "execution_count": null,
   "id": "01e76495",
   "metadata": {},
   "outputs": [],
   "source": []
  }
 ],
 "metadata": {
  "kernelspec": {
   "display_name": "Python 3 (ipykernel)",
   "language": "python",
   "name": "python3"
  },
  "language_info": {
   "codemirror_mode": {
    "name": "ipython",
    "version": 3
   },
   "file_extension": ".py",
   "mimetype": "text/x-python",
   "name": "python",
   "nbconvert_exporter": "python",
   "pygments_lexer": "ipython3",
   "version": "3.9.7"
  }
 },
 "nbformat": 4,
 "nbformat_minor": 5
}
