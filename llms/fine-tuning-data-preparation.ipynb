{
 "cells": [
  {
   "cell_type": "code",
   "execution_count": 1,
   "metadata": {},
   "outputs": [],
   "source": [
    "import pandas as pd"
   ]
  },
  {
   "cell_type": "code",
   "execution_count": 2,
   "metadata": {},
   "outputs": [],
   "source": [
    "informational_data_train = pd.read_csv(\"./data/informatical_train.csv\")"
   ]
  },
  {
   "cell_type": "code",
   "execution_count": 3,
   "metadata": {},
   "outputs": [
    {
     "data": {
      "text/html": [
       "<div>\n",
       "<style scoped>\n",
       "    .dataframe tbody tr th:only-of-type {\n",
       "        vertical-align: middle;\n",
       "    }\n",
       "\n",
       "    .dataframe tbody tr th {\n",
       "        vertical-align: top;\n",
       "    }\n",
       "\n",
       "    .dataframe thead th {\n",
       "        text-align: right;\n",
       "    }\n",
       "</style>\n",
       "<table border=\"1\" class=\"dataframe\">\n",
       "  <thead>\n",
       "    <tr style=\"text-align: right;\">\n",
       "      <th></th>\n",
       "      <th>text</th>\n",
       "      <th>label</th>\n",
       "    </tr>\n",
       "  </thead>\n",
       "  <tbody>\n",
       "    <tr>\n",
       "      <th>0</th>\n",
       "      <td>他克莫司软膏（普特彼） 0.1%*10g 数量：1盒</td>\n",
       "      <td>1</td>\n",
       "    </tr>\n",
       "    <tr>\n",
       "      <th>1</th>\n",
       "      <td>家附近医院心内科先做好</td>\n",
       "      <td>0</td>\n",
       "    </tr>\n",
       "    <tr>\n",
       "      <th>2</th>\n",
       "      <td>出院小结能否拍照给我？</td>\n",
       "      <td>0</td>\n",
       "    </tr>\n",
       "    <tr>\n",
       "      <th>3</th>\n",
       "      <td>呃，有可能的，这个小朋友就这几个最常见的突然会加重的因素，脸上加重的话，这个食物如果身上还好...</td>\n",
       "      <td>1</td>\n",
       "    </tr>\n",
       "    <tr>\n",
       "      <th>4</th>\n",
       "      <td>我倾向良性概率大</td>\n",
       "      <td>1</td>\n",
       "    </tr>\n",
       "  </tbody>\n",
       "</table>\n",
       "</div>"
      ],
      "text/plain": [
       "                                                text  label\n",
       "0                         他克莫司软膏（普特彼） 0.1%*10g 数量：1盒      1\n",
       "1                                        家附近医院心内科先做好      0\n",
       "2                                        出院小结能否拍照给我？      0\n",
       "3  呃，有可能的，这个小朋友就这几个最常见的突然会加重的因素，脸上加重的话，这个食物如果身上还好...      1\n",
       "4                                           我倾向良性概率大      1"
      ]
     },
     "execution_count": 3,
     "metadata": {},
     "output_type": "execute_result"
    }
   ],
   "source": [
    "informational_data_train.head()"
   ]
  },
  {
   "cell_type": "code",
   "execution_count": 4,
   "metadata": {},
   "outputs": [],
   "source": [
    "PROMPT = f\"\"\"Act as a sophisticated AI trained in the nuances of online communication, particularly in the healthcare domain. Given a physician's online reply, I need you to analyze the content and context of the message. Determine whether the reply constitutes informational support or not. Informational support should be considered as providing advice, facts, or guidance that can be used to solve a problem or address a question.\n",
    "    \n",
    "    Based on your assessment, return '1' for True if the reply offers informational support, and '0' for False if it does not.\n",
    "\n",
    "    The online physician's reply for analysis:\n",
    "    \"\"\""
   ]
  },
  {
   "cell_type": "code",
   "execution_count": 5,
   "metadata": {},
   "outputs": [],
   "source": [
    "final_dataset = []\n",
    "for i, row in informational_data_train.iterrows():\n",
    "    user_text = PROMPT + row[\"text\"]\n",
    "    model_output = row[\"label\"]\n",
    "    final_dataset.append([{\"from\": \"human\", \"value\": user_text}, {\"from\": \"gpt\", \"value\": model_output}])"
   ]
  },
  {
   "cell_type": "code",
   "execution_count": 6,
   "metadata": {},
   "outputs": [
    {
     "data": {
      "text/html": [
       "<div>\n",
       "<style scoped>\n",
       "    .dataframe tbody tr th:only-of-type {\n",
       "        vertical-align: middle;\n",
       "    }\n",
       "\n",
       "    .dataframe tbody tr th {\n",
       "        vertical-align: top;\n",
       "    }\n",
       "\n",
       "    .dataframe thead th {\n",
       "        text-align: right;\n",
       "    }\n",
       "</style>\n",
       "<table border=\"1\" class=\"dataframe\">\n",
       "  <thead>\n",
       "    <tr style=\"text-align: right;\">\n",
       "      <th></th>\n",
       "      <th>conversations</th>\n",
       "    </tr>\n",
       "  </thead>\n",
       "  <tbody>\n",
       "    <tr>\n",
       "      <th>0</th>\n",
       "      <td>[{'from': 'human', 'value': 'Act as a sophisti...</td>\n",
       "    </tr>\n",
       "    <tr>\n",
       "      <th>1</th>\n",
       "      <td>[{'from': 'human', 'value': 'Act as a sophisti...</td>\n",
       "    </tr>\n",
       "    <tr>\n",
       "      <th>2</th>\n",
       "      <td>[{'from': 'human', 'value': 'Act as a sophisti...</td>\n",
       "    </tr>\n",
       "    <tr>\n",
       "      <th>3</th>\n",
       "      <td>[{'from': 'human', 'value': 'Act as a sophisti...</td>\n",
       "    </tr>\n",
       "    <tr>\n",
       "      <th>4</th>\n",
       "      <td>[{'from': 'human', 'value': 'Act as a sophisti...</td>\n",
       "    </tr>\n",
       "    <tr>\n",
       "      <th>...</th>\n",
       "      <td>...</td>\n",
       "    </tr>\n",
       "    <tr>\n",
       "      <th>11043</th>\n",
       "      <td>[{'from': 'human', 'value': 'Act as a sophisti...</td>\n",
       "    </tr>\n",
       "    <tr>\n",
       "      <th>11044</th>\n",
       "      <td>[{'from': 'human', 'value': 'Act as a sophisti...</td>\n",
       "    </tr>\n",
       "    <tr>\n",
       "      <th>11045</th>\n",
       "      <td>[{'from': 'human', 'value': 'Act as a sophisti...</td>\n",
       "    </tr>\n",
       "    <tr>\n",
       "      <th>11046</th>\n",
       "      <td>[{'from': 'human', 'value': 'Act as a sophisti...</td>\n",
       "    </tr>\n",
       "    <tr>\n",
       "      <th>11047</th>\n",
       "      <td>[{'from': 'human', 'value': 'Act as a sophisti...</td>\n",
       "    </tr>\n",
       "  </tbody>\n",
       "</table>\n",
       "<p>11048 rows × 1 columns</p>\n",
       "</div>"
      ],
      "text/plain": [
       "                                           conversations\n",
       "0      [{'from': 'human', 'value': 'Act as a sophisti...\n",
       "1      [{'from': 'human', 'value': 'Act as a sophisti...\n",
       "2      [{'from': 'human', 'value': 'Act as a sophisti...\n",
       "3      [{'from': 'human', 'value': 'Act as a sophisti...\n",
       "4      [{'from': 'human', 'value': 'Act as a sophisti...\n",
       "...                                                  ...\n",
       "11043  [{'from': 'human', 'value': 'Act as a sophisti...\n",
       "11044  [{'from': 'human', 'value': 'Act as a sophisti...\n",
       "11045  [{'from': 'human', 'value': 'Act as a sophisti...\n",
       "11046  [{'from': 'human', 'value': 'Act as a sophisti...\n",
       "11047  [{'from': 'human', 'value': 'Act as a sophisti...\n",
       "\n",
       "[11048 rows x 1 columns]"
      ]
     },
     "execution_count": 6,
     "metadata": {},
     "output_type": "execute_result"
    }
   ],
   "source": [
    "final_dataset_frame = pd.DataFrame({\"conversations\": final_dataset})\n",
    "final_dataset_frame"
   ]
  },
  {
   "cell_type": "code",
   "execution_count": 15,
   "metadata": {},
   "outputs": [],
   "source": [
    "final_dataset_frame.to_parquet(\"./output/shared_gpt_informatical_train.parquet\", index=False)"
   ]
  },
  {
   "cell_type": "code",
   "execution_count": 22,
   "metadata": {},
   "outputs": [],
   "source": [
    "emotional_data_train = pd.read_csv(\"./data/emotional_train.csv\")"
   ]
  },
  {
   "cell_type": "code",
   "execution_count": 23,
   "metadata": {},
   "outputs": [],
   "source": [
    "PROMPT = \"\"\"\n",
    "Act as a discerning analyzer with expertise in both medical communication and emotional intelligence. Given a physician's online reply, I need you to analyze the content and context of the message. Based on the language, tone, and context used, decide whether the reply is offering emotional support. Emotional support should be considered as responses that offer empathy, concern, encouragement, reassurance, or aim to share the patient's happiness or sadness and to express caring and concern. \n",
    "    \n",
    "Based on your assessment, return '1' for True if the reply constitutes emotional support, and '0' for False if it does not.\n",
    "ONLY RETURN 1 or 0, NO MORE COMMENT.\n",
    "\n",
    "The online physician's reply for analysis:\n",
    "\"\"\""
   ]
  },
  {
   "cell_type": "code",
   "execution_count": 27,
   "metadata": {},
   "outputs": [],
   "source": [
    "final_dataset = []\n",
    "for i, row in emotional_data_train.iterrows():\n",
    "    user_text = PROMPT + str(row[\"text\"])\n",
    "    model_output = row[\"label\"]\n",
    "    final_dataset.append([{\"from\": \"human\", \"value\": user_text}, {\"from\": \"gpt\", \"value\": model_output}])"
   ]
  },
  {
   "cell_type": "code",
   "execution_count": 30,
   "metadata": {},
   "outputs": [
    {
     "data": {
      "text/html": [
       "<div>\n",
       "<style scoped>\n",
       "    .dataframe tbody tr th:only-of-type {\n",
       "        vertical-align: middle;\n",
       "    }\n",
       "\n",
       "    .dataframe tbody tr th {\n",
       "        vertical-align: top;\n",
       "    }\n",
       "\n",
       "    .dataframe thead th {\n",
       "        text-align: right;\n",
       "    }\n",
       "</style>\n",
       "<table border=\"1\" class=\"dataframe\">\n",
       "  <thead>\n",
       "    <tr style=\"text-align: right;\">\n",
       "      <th></th>\n",
       "      <th>conversations</th>\n",
       "    </tr>\n",
       "  </thead>\n",
       "  <tbody>\n",
       "    <tr>\n",
       "      <th>0</th>\n",
       "      <td>[{'from': 'human', 'value': '\n",
       "Act as a discern...</td>\n",
       "    </tr>\n",
       "    <tr>\n",
       "      <th>1</th>\n",
       "      <td>[{'from': 'human', 'value': '\n",
       "Act as a discern...</td>\n",
       "    </tr>\n",
       "    <tr>\n",
       "      <th>2</th>\n",
       "      <td>[{'from': 'human', 'value': '\n",
       "Act as a discern...</td>\n",
       "    </tr>\n",
       "    <tr>\n",
       "      <th>3</th>\n",
       "      <td>[{'from': 'human', 'value': '\n",
       "Act as a discern...</td>\n",
       "    </tr>\n",
       "    <tr>\n",
       "      <th>4</th>\n",
       "      <td>[{'from': 'human', 'value': '\n",
       "Act as a discern...</td>\n",
       "    </tr>\n",
       "    <tr>\n",
       "      <th>...</th>\n",
       "      <td>...</td>\n",
       "    </tr>\n",
       "    <tr>\n",
       "      <th>17023</th>\n",
       "      <td>[{'from': 'human', 'value': '\n",
       "Act as a discern...</td>\n",
       "    </tr>\n",
       "    <tr>\n",
       "      <th>17024</th>\n",
       "      <td>[{'from': 'human', 'value': '\n",
       "Act as a discern...</td>\n",
       "    </tr>\n",
       "    <tr>\n",
       "      <th>17025</th>\n",
       "      <td>[{'from': 'human', 'value': '\n",
       "Act as a discern...</td>\n",
       "    </tr>\n",
       "    <tr>\n",
       "      <th>17026</th>\n",
       "      <td>[{'from': 'human', 'value': '\n",
       "Act as a discern...</td>\n",
       "    </tr>\n",
       "    <tr>\n",
       "      <th>17027</th>\n",
       "      <td>[{'from': 'human', 'value': '\n",
       "Act as a discern...</td>\n",
       "    </tr>\n",
       "  </tbody>\n",
       "</table>\n",
       "<p>17028 rows × 1 columns</p>\n",
       "</div>"
      ],
      "text/plain": [
       "                                           conversations\n",
       "0      [{'from': 'human', 'value': '\n",
       "Act as a discern...\n",
       "1      [{'from': 'human', 'value': '\n",
       "Act as a discern...\n",
       "2      [{'from': 'human', 'value': '\n",
       "Act as a discern...\n",
       "3      [{'from': 'human', 'value': '\n",
       "Act as a discern...\n",
       "4      [{'from': 'human', 'value': '\n",
       "Act as a discern...\n",
       "...                                                  ...\n",
       "17023  [{'from': 'human', 'value': '\n",
       "Act as a discern...\n",
       "17024  [{'from': 'human', 'value': '\n",
       "Act as a discern...\n",
       "17025  [{'from': 'human', 'value': '\n",
       "Act as a discern...\n",
       "17026  [{'from': 'human', 'value': '\n",
       "Act as a discern...\n",
       "17027  [{'from': 'human', 'value': '\n",
       "Act as a discern...\n",
       "\n",
       "[17028 rows x 1 columns]"
      ]
     },
     "execution_count": 30,
     "metadata": {},
     "output_type": "execute_result"
    }
   ],
   "source": [
    "final_dataset_frame = pd.DataFrame({\"conversations\": final_dataset})\n",
    "final_dataset_frame"
   ]
  }
 ],
 "metadata": {
  "kernelspec": {
   "display_name": "SMU",
   "language": "python",
   "name": "python3"
  },
  "language_info": {
   "codemirror_mode": {
    "name": "ipython",
    "version": 3
   },
   "file_extension": ".py",
   "mimetype": "text/x-python",
   "name": "python",
   "nbconvert_exporter": "python",
   "pygments_lexer": "ipython3",
   "version": "3.10.11"
  }
 },
 "nbformat": 4,
 "nbformat_minor": 2
}
